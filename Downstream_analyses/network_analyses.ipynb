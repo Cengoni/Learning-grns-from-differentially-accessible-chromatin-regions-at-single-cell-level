{
 "cells": [
  {
   "cell_type": "markdown",
   "metadata": {},
   "source": [
    "# Network filtering and scRNA-seq comparison\n",
    "This notebook include the analyses described in 3.3.2 Gene-body openness as a filtering criterion for TFs and 3.3.4 Comparison with snucRNA-seq at TFs and TGs level    "
   ]
  },
  {
   "cell_type": "code",
   "execution_count": 40,
   "metadata": {},
   "outputs": [],
   "source": [
    "# import packages\n",
    "import os\n",
    "import pandas as pd\n",
    "import scipy.stats as ss\n",
    "import matplotlib.pyplot as plt\n",
    "import numpy as np\n",
    "import venn as venn\n",
    "from statsmodels.stats.multitest import multipletests  "
   ]
  },
  {
   "cell_type": "markdown",
   "metadata": {},
   "source": [
    "## Preparing for network filtering"
   ]
  },
  {
   "cell_type": "markdown",
   "metadata": {},
   "source": [
    "### Load TF-motif information"
   ]
  },
  {
   "cell_type": "code",
   "execution_count": 41,
   "metadata": {},
   "outputs": [
    {
     "name": "stdout",
     "output_type": "stream",
     "text": [
      "Root TFs: 1877\n",
      "Root TFs with motif information: 1117\n"
     ]
    }
   ],
   "source": [
    "# load a list of known TFs with their family and motif information\n",
    "base_dir = \"/home/claudia/Desktop/UGent/Thesis/\" \n",
    "tf_file = \"TF2fam2mot_n.txt\" \n",
    "\n",
    "with open(base_dir+'enrichment/'+tf_file) as f:\n",
    "    lines = f.readlines()         \n",
    "    tf2mot = {}\n",
    "    mot2tf = {}\n",
    "    tf_names = [] # All TFs\n",
    "    tf_names_Y = [] # TFs with motif info\n",
    "    for l in lines:\n",
    "        l = l.split('\\t')\n",
    "        motifs = l[3] \n",
    "        tf = l[0]\n",
    "        tf_names.append(tf)\n",
    "        if l[2] == 'Y':\n",
    "            tf_names_Y.append(tf)\n",
    "            tf2mot[tf] = [ m.strip() for m in motifs.split(',')]\n",
    "            \n",
    "            for m in motifs.split(','):\n",
    "                m = m.strip()\n",
    "                if m in mot2tf:\n",
    "                    mot2tf[m].append(tf)\n",
    "                else:\n",
    "                    mot2tf[m] = [tf]\n",
    "\n",
    "print(\"Root TFs: {}\".format(len(tf_names)))\n",
    "print(\"Root TFs with motif information: {}\".format(len(tf_names_Y)))"
   ]
  },
  {
   "cell_type": "markdown",
   "metadata": {},
   "source": [
    "### Gold Standard from DE genes"
   ]
  },
  {
   "cell_type": "code",
   "execution_count": 42,
   "metadata": {},
   "outputs": [],
   "source": [
    "ACR_celltypes = ['Trichoblast', 'Xylem', 'LRC', 'Cortex', 'Epidermis', 'Atrichoblast', 'Pericycle', 'Cambium',  'Endodermis' , 'Phloem'] # Clusters with names"
   ]
  },
  {
   "cell_type": "code",
   "execution_count": 43,
   "metadata": {},
   "outputs": [],
   "source": [
    "denyer= base_dir+\"/GS/denyer_DE.xls\"\n",
    "jeanbaptiste=base_dir+\"/GS/jeanbaptiste_de.xls\"\n",
    "wendrich=base_dir+\"/GS/wendrich_de.xls\""
   ]
  },
  {
   "cell_type": "markdown",
   "metadata": {},
   "source": [
    "#### Denyer"
   ]
  },
  {
   "cell_type": "code",
   "execution_count": 44,
   "metadata": {},
   "outputs": [
    {
     "name": "stdout",
     "output_type": "stream",
     "text": [
      "columns: Index(['Gene', 'avg_logFC', 'qval', 'Annotation'], dtype='object')\n",
      "cell types: {'Xylem', 'Cortex', 'Atrichoblast', 'Stele', 'Endodermis', 'Trichoblast'}\n",
      "genes: 6800\n"
     ]
    }
   ],
   "source": [
    "de_denyer = pd.read_excel(denyer)\n",
    "print(\"columns: {}\".format(de_denyer.columns))\n",
    "print(\"cell types: {}\".format(set(de_denyer.Annotation)))\n",
    "de_denyer = de_denyer[de_denyer.iloc[:]['qval'] < 0.05]\n",
    "de_denyer = de_denyer[de_denyer.iloc[:]['avg_logFC'] > 0.25] \n",
    "print(\"genes: {}\".format(de_denyer.shape[0]))"
   ]
  },
  {
   "cell_type": "markdown",
   "metadata": {},
   "source": [
    "#### jeanbaptiste"
   ]
  },
  {
   "cell_type": "code",
   "execution_count": 45,
   "metadata": {},
   "outputs": [
    {
     "name": "stdout",
     "output_type": "stream",
     "text": [
      "Index(['Annotation', 'Gene', 'Pct.1', 'qval', 'mean'], dtype='object')\n",
      "{'nonHair', 'stele', 'endodermis', 'cortex', 'hair'}\n"
     ]
    }
   ],
   "source": [
    "de_jeanbaptiste = pd.read_excel(jeanbaptiste) \n",
    "print(de_jeanbaptiste.columns)\n",
    "print(set(de_jeanbaptiste.Annotation))"
   ]
  },
  {
   "cell_type": "code",
   "execution_count": 46,
   "metadata": {},
   "outputs": [],
   "source": [
    "de_jeanbaptiste.loc[de_jeanbaptiste.iloc[:]['Annotation'] == 'nonHair', 'Annotation'] = 'Atrichoblast'\n",
    "de_jeanbaptiste.loc[de_jeanbaptiste.iloc[:]['Annotation'] == 'hair', 'Annotation'] = 'Trichoblast'\n",
    "de_jeanbaptiste.loc[de_jeanbaptiste.iloc[:]['Annotation'] == 'stele', 'Annotation'] = 'Stele' # do i add a copy of this to xylem and phloem? \n",
    "de_jeanbaptiste.loc[de_jeanbaptiste.iloc[:]['Annotation'] == 'cortex', 'Annotation'] = 'Cortex'\n",
    "de_jeanbaptiste.loc[de_jeanbaptiste.iloc[:]['Annotation'] == 'endodermis', 'Annotation'] = 'Endodermis'"
   ]
  },
  {
   "cell_type": "code",
   "execution_count": 47,
   "metadata": {},
   "outputs": [
    {
     "name": "stdout",
     "output_type": "stream",
     "text": [
      "(381, 5)\n"
     ]
    }
   ],
   "source": [
    "de_jeanbaptiste = de_jeanbaptiste[de_jeanbaptiste.iloc[:]['qval'] < 0.05]\n",
    "de_jeanbaptiste = de_jeanbaptiste[de_jeanbaptiste.iloc[:]['mean'] > 0.25]  \n",
    "print(de_jeanbaptiste.shape)"
   ]
  },
  {
   "cell_type": "markdown",
   "metadata": {},
   "source": [
    "#### Wendrich"
   ]
  },
  {
   "cell_type": "code",
   "execution_count": 48,
   "metadata": {},
   "outputs": [
    {
     "name": "stdout",
     "output_type": "stream",
     "text": [
      "Index(['Gene', 'avg_logFC', 'Pct.1', 'Pct.2', 'qval', 'Annotation'], dtype='object')\n",
      "{'Procambium', 'Phloem', 'Cortex', 'Xylem', 'Atrichoblast', 'Epidermis', 'Endodermis', 'Trichoblast', 'LRC', 'Pericycle'}\n"
     ]
    }
   ],
   "source": [
    "de_wendrich = pd.read_excel(wendrich) \n",
    "print(de_wendrich.columns)\n",
    "print(set(de_wendrich.Annotation))"
   ]
  },
  {
   "cell_type": "code",
   "execution_count": 49,
   "metadata": {},
   "outputs": [
    {
     "name": "stdout",
     "output_type": "stream",
     "text": [
      "(10406, 6)\n"
     ]
    }
   ],
   "source": [
    "de_wendrich = de_wendrich[de_wendrich.iloc[:]['avg_logFC'] > 0.25] \n",
    "de_wendrich = de_wendrich[de_wendrich.iloc[:]['qval'] < 0.05]\n",
    "\n",
    "de_wendrich['Gene'] = de_wendrich['Gene'].apply(lambda x: x.split('-')[0])\n",
    " \n",
    "print(de_wendrich.shape)"
   ]
  },
  {
   "cell_type": "markdown",
   "metadata": {},
   "source": [
    "#### All together"
   ]
  },
  {
   "cell_type": "code",
   "execution_count": 50,
   "metadata": {},
   "outputs": [],
   "source": [
    "de_all = pd.concat([de_wendrich[['Gene','Annotation']],de_denyer[['Gene','Annotation']],de_jeanbaptiste[['Gene','Annotation']]]).drop_duplicates().reset_index(drop=True) "
   ]
  },
  {
   "cell_type": "code",
   "execution_count": 51,
   "metadata": {},
   "outputs": [
    {
     "name": "stdout",
     "output_type": "stream",
     "text": [
      "(708, 2)\n"
     ]
    }
   ],
   "source": [
    "#retain only TFs with motif information\n",
    "de_all_tfs = de_all[de_all['Gene'].isin(tf_names_Y)] #do it only fot motif \n",
    "print(de_all_tfs.shape)"
   ]
  },
  {
   "cell_type": "code",
   "execution_count": 52,
   "metadata": {},
   "outputs": [
    {
     "data": {
      "text/plain": "Stele           94\nProcambium      89\nPhloem          82\nXylem           78\nPericycle       76\nTrichoblast     66\nLRC             61\nCortex          58\nEndodermis      49\nAtrichoblast    33\nEpidermis       22\nName: Annotation, dtype: int64"
     },
     "execution_count": 52,
     "metadata": {},
     "output_type": "execute_result"
    }
   ],
   "source": [
    "de_all_tfs['Annotation'].value_counts()"
   ]
  },
  {
   "cell_type": "markdown",
   "metadata": {},
   "source": [
    "### Read in my cell-type networks"
   ]
  },
  {
   "cell_type": "code",
   "execution_count": 53,
   "metadata": {},
   "outputs": [],
   "source": [
    "cell_type = 'trichoblast'\n",
    "capital_cell_type = 'Trichoblast'"
   ]
  },
  {
   "cell_type": "code",
   "execution_count": 54,
   "metadata": {},
   "outputs": [
    {
     "name": "stdout",
     "output_type": "stream",
     "text": [
      "Number of motifs: 785\n"
     ]
    }
   ],
   "source": [
    "# data preparation and p-value adjustment for motif significance\n",
    "input_file = \"/home/claudia/Desktop/UGent/Thesis/networks_second/\"+cell_type+\"_all_stats.txt\"\n",
    "\n",
    "shuff_stats = pd.read_csv(input_file, sep = \"\\t\", header = None)\n",
    "shuff_stats.columns = [\"PWM\", \"num_shufflings\", \"real_ints\", \"shuff_ints\", \"p_val\", \"enrichment_fold\"]\n",
    "wm = lambda x: np.average(x, weights = (shuff_stats.loc[x.index, \"num_shufflings\"] / 1000))\n",
    "processed_stats = shuff_stats.groupby('PWM').agg({'num_shufflings' : 'sum',\n",
    "                                'real_ints': 'max',\n",
    "                                'shuff_ints': wm,\n",
    "                                'p_val': wm,\n",
    "                                'enrichment_fold': wm})\n",
    "\n",
    "processed_stats.loc[(processed_stats['p_val'] == 0), 'p_val'] = 0.0009\n",
    "FDR = multipletests(processed_stats['p_val'], method = 'fdr_bh', alpha = 0.01)\n",
    "processed_stats.insert(4, 'adj_pval', FDR[1])\n",
    "processed_stats = processed_stats.reset_index()\n",
    "processed_stats.loc[:, 'PWM'] = processed_stats.loc[:, 'PWM'].str.split(\"_\", expand = True)[0]\n",
    "processed_stats = processed_stats.set_index('PWM')\n",
    "\n",
    "# filter significant motif (adjusted p-val < 0.05)\n",
    "out_motifs = list(processed_stats.loc[(processed_stats['adj_pval'] < 0.05), :].index)\n",
    "out_motifs = [l + \"_network.txt\" for l in out_motifs] \n",
    "print(\"Number of motifs: {}\".format(len(out_motifs)))"
   ]
  },
  {
   "cell_type": "code",
   "execution_count": 55,
   "metadata": {},
   "outputs": [],
   "source": [
    "# load networks of significant motifs\n",
    "net_dir= base_dir+'networks_second/'+cell_type+'/'\n",
    "net_files = os.listdir(net_dir) \n",
    "miniac_TFs = set() # My mini-ac_TFs \n",
    "miniac_TF2TG = dict()\n",
    "\n",
    "for net in net_files:\n",
    "    if net in out_motifs:\n",
    "        with open(net_dir+net) as f:\n",
    "            lines = f.readlines()\n",
    "            mot = net.split('_')[0] \n",
    "            tgs = set()\n",
    "            tfs = set()\n",
    "            for line in lines:\n",
    "                line = line.split('\\t') \n",
    "                tgs.add(line[1])\n",
    "                tfs.add(line[0])\n",
    "                    \n",
    "                                           \n",
    "            for tf in tfs:\n",
    "                miniac_TFs.add(tf) \n",
    "                for tg in tgs:\n",
    "                    tg = tg.rstrip()\n",
    "                    if tf in miniac_TF2TG:\n",
    "                        miniac_TF2TG[tf].add(tg)\n",
    "                    else:\n",
    "                        miniac_TF2TG[tf] = {tg}"
   ]
  },
  {
   "cell_type": "code",
   "execution_count": 56,
   "metadata": {},
   "outputs": [
    {
     "data": {
      "text/plain": "605"
     },
     "execution_count": 56,
     "metadata": {},
     "output_type": "execute_result"
    }
   ],
   "source": [
    "len(miniac_TFs)"
   ]
  },
  {
   "cell_type": "code",
   "execution_count": 57,
   "metadata": {},
   "outputs": [
    {
     "name": "stdout",
     "output_type": "stream",
     "text": [
      "390.8066115702479\n"
     ]
    }
   ],
   "source": [
    "mean_tgs = 0\n",
    "for k in miniac_TF2TG:\n",
    "    mean_tgs += len(miniac_TF2TG[k])\n",
    "print(mean_tgs/len(miniac_TF2TG))\n"
   ]
  },
  {
   "cell_type": "markdown",
   "metadata": {},
   "source": [
    "### Filter MINI-AC TFs based on GS"
   ]
  },
  {
   "cell_type": "code",
   "execution_count": 58,
   "metadata": {},
   "outputs": [],
   "source": [
    "GS_tfs = de_all_tfs.loc[de_all['Annotation'] == capital_cell_type, 'Gene']"
   ]
  },
  {
   "cell_type": "code",
   "execution_count": 59,
   "metadata": {},
   "outputs": [
    {
     "name": "stdout",
     "output_type": "stream",
     "text": [
      "MINI-AC TFs for which their motif has been seen in GS 129\n"
     ]
    }
   ],
   "source": [
    "# Check which MINI-AC have a motif in GS\n",
    "right_side = set(miniac_TFs).difference(GS_tfs) \n",
    "GS_AND_MINIAC = set(GS_tfs).intersection(set(miniac_TFs))\n",
    "to_remove = set()\n",
    "for fp in right_side:  \n",
    "    for tf in GS_AND_MINIAC:  \n",
    "        if tf in tf2mot: # if i don't have motif info is useless to check\n",
    "            inter = len(set(tf2mot[fp]).intersection(set(tf2mot[tf])))\n",
    "            if inter != 0: # if their motifs intersect i can consider it a TP \n",
    "                to_remove.add(fp)\n",
    "                break\n",
    "\n",
    "print(\"MINI-AC TFs for which their motif has been seen in GS {}\".format(len(to_remove)))            \n",
    "miniac_and_gs_filtered_TFs = GS_AND_MINIAC.union(right_side).difference(to_remove)"
   ]
  },
  {
   "cell_type": "code",
   "execution_count": 60,
   "metadata": {},
   "outputs": [
    {
     "name": "stdout",
     "output_type": "stream",
     "text": [
      "MINI-AC in GS: 43\n"
     ]
    },
    {
     "data": {
      "image/png": "[encoded data removed]",
      "text/plain": "<Figure size 576x576 with 1 Axes>"
     },
     "metadata": {},
     "output_type": "display_data"
    }
   ],
   "source": [
    "from venn import venn\n",
    "miniac_gs_venn = {\n",
    "    \"GS TFs\": set(GS_tfs),\n",
    "    \"MINI-AC TFs\": set(miniac_and_gs_filtered_TFs)\n",
    "}\n",
    "venn(miniac_gs_venn)\n",
    "print(\"MINI-AC in GS: {}\".format(len(set(GS_tfs).intersection(miniac_and_gs_filtered_TFs))))"
   ]
  },
  {
   "cell_type": "markdown",
   "metadata": {},
   "source": [
    "## Filtering strategy"
   ]
  },
  {
   "cell_type": "markdown",
   "metadata": {},
   "source": [
    "### Gene-body openness"
   ]
  },
  {
   "cell_type": "markdown",
   "metadata": {},
   "source": [
    "#### Preparation"
   ]
  },
  {
   "cell_type": "code",
   "execution_count": 61,
   "metadata": {},
   "outputs": [],
   "source": [
    "# have to use tfs_position_file to extract position of selected miniac_TFs\n",
    "tfs_position_file = '/home/claudia/Desktop/UGent/Thesis/enrichment/tfs_pos_1kb.csv'\n",
    "cell_type_position_file=\"/home/claudia/Desktop/UGent/Thesis/networks_second/sorted_\"+cell_type+\"_DARs.bed\"\n",
    "\n",
    "# process tfs_position file to save into dict and read just once\n",
    "tf_dict = {}\n",
    "with open(tfs_position_file) as h:\n",
    "    lines = h.readlines()[1:]\n",
    "    for l in lines:\n",
    "        l = l.split(',')\n",
    "        name = l[0]\n",
    "        pos = \"_\".join(l[1:])\n",
    "        pos = pos.rstrip()\n",
    "        \n",
    "        if name not in tf_dict:\n",
    "            tf_dict[name] = [pos]\n",
    "        else:\n",
    "            tf_dict[name].append(pos)       "
   ]
  },
  {
   "cell_type": "code",
   "execution_count": 62,
   "metadata": {},
   "outputs": [],
   "source": [
    "# read in cell_type_pos\n",
    "cell_type_pos = []\n",
    "with open(cell_type_position_file) as h:\n",
    "    lines = h.readlines()[1:]\n",
    "    for l in lines:\n",
    "        l = l.split('\\t')\n",
    "        chr_ = l[0][-1]\n",
    "        start = l[1]\n",
    "        stop = l[2]\n",
    "        pos = \"_\".join([chr_,start,stop])\n",
    "        pos = pos.rstrip()\n",
    "        cell_type_pos.append(pos)  "
   ]
  },
  {
   "cell_type": "code",
   "execution_count": 63,
   "metadata": {},
   "outputs": [
    {
     "name": "stdout",
     "output_type": "stream",
     "text": [
      "AT2G36011  not in annotation file\n"
     ]
    }
   ],
   "source": [
    "TF_covered = {}\n",
    "for tf in miniac_TFs:\n",
    "    e_length = 0    \n",
    "    overlap_length = 0\n",
    "    if tf in tf_dict: #bc annotation doesn't have some tf\n",
    "        for exon in tf_dict[tf]:\n",
    "            e_chr, e_start, e_stop = exon.split('_')\n",
    "            e_chr, e_start, e_stop = int(e_chr), int(e_start), int(e_stop)\n",
    "            e_length += e_stop - e_start + 1\n",
    "            \n",
    "            for peak in cell_type_pos:\n",
    "                p_chr, p_start, p_stop = peak.split('_')\n",
    "                p_chr, p_start, p_stop = int(p_chr), int(p_start), int(p_stop)\n",
    "\n",
    "                # same chromosome\n",
    "                if p_chr == e_chr:\n",
    "                    # peaks end before exon starts or peaks start after exon has ended, not overlapping\n",
    "                    if p_stop < e_start or p_start > e_stop: \n",
    "                        continue\n",
    "                    else:\n",
    "                        if p_start <= e_start:\n",
    "                            tmp_start = e_start\n",
    "                        else:\n",
    "                            tmp_start = p_start\n",
    "\n",
    "                        if p_stop >= e_stop:\n",
    "                            tmp_stop = e_stop\n",
    "                        else:                            \n",
    "                            tmp_stop = p_stop\n",
    "\n",
    "                        overlap_length += tmp_stop - tmp_start + 1\n",
    "\n",
    "        TF_covered[tf] = overlap_length/e_length\n",
    "    else:\n",
    "        print(tf, \" not in annotation file\")\n"
   ]
  },
  {
   "cell_type": "code",
   "execution_count": 64,
   "metadata": {},
   "outputs": [
    {
     "data": {
      "image/png": "[encoded data removed]",
      "text/plain": "<Figure size 432x288 with 1 Axes>"
     },
     "metadata": {
      "needs_background": "light"
     },
     "output_type": "display_data"
    }
   ],
   "source": [
    "# plot gene-body openness of all GS TFs in the cell-type\n",
    "ax = plt.subplot()\n",
    "values_intersect = []\n",
    "for k,v in list(TF_covered.items()):\n",
    "    if k in GS_AND_MINIAC:\n",
    "        values_intersect.append(v)\n",
    "        \n",
    "plt.hist(values_intersect, bins=10)\n",
    "ax.set_title('Gene body coverage (intersected with GS)', size = 15)\n",
    "ax.set_xlabel('Percentage of gene body covered', size = 10)\n",
    "ax.set_ylabel('Number of miniac_TFs', size= 10)\n",
    "plt.show()"
   ]
  },
  {
   "cell_type": "code",
   "execution_count": 65,
   "metadata": {},
   "outputs": [
    {
     "data": {
      "image/png": "[encoded data removed]",
      "text/plain": "<Figure size 432x288 with 1 Axes>"
     },
     "metadata": {
      "needs_background": "light"
     },
     "output_type": "display_data"
    }
   ],
   "source": [
    "# plot gene-body openness of all non-GS TFs in the cell-type\n",
    "ax = plt.subplot()\n",
    "values_right = []\n",
    "for k,v in list(TF_covered.items()):\n",
    "    if k in right_side:\n",
    "        values_right.append(v)\n",
    "        \n",
    "plt.hist(values_right, bins=10)\n",
    "ax.set_title('Gene body coverage (difference with GS)', size = 15)\n",
    "ax.set_xlabel('Percentage of gene body covered', size = 10)\n",
    "ax.set_ylabel('Number of miniac_TFs', size= 10)\n",
    "plt.show()"
   ]
  },
  {
   "cell_type": "markdown",
   "metadata": {},
   "source": [
    "#### Statistical test"
   ]
  },
  {
   "cell_type": "code",
   "execution_count": 66,
   "metadata": {},
   "outputs": [
    {
     "name": "stdout",
     "output_type": "stream",
     "text": [
      "Thr \t p-value \t f1\n",
      "0.01 \t 5e-08 \t 0.33\n",
      "0.05 \t 2e-08 \t 0.34\n",
      "0.1 \t 0.0 \t 0.374\n",
      "0.2 \t 8.12e-06 \t 0.262\n",
      "0.3 \t 0.00892709 \t 0.12\n",
      "0.1\n"
     ]
    }
   ],
   "source": [
    "# compute hypergeometric test to detect is gene-body openness is significantly enriched for GS TFs\n",
    "\n",
    "t_range = [1,5,10,20,30]\n",
    "thresholds = [t/100 for t in t_range]\n",
    "p_values = []\n",
    "f1s = []\n",
    "print(\"Thr \\t p-value \\t f1\")\n",
    "for t in thresholds:\n",
    "    open_tfs = []\n",
    "    for k,v in list(TF_covered.items()):\n",
    "        if v > t:\n",
    "            open_tfs.append(k)\n",
    "        \n",
    "    TP = len(set(GS_AND_MINIAC).intersection(open_tfs))\n",
    "    FP = len(set(open_tfs).difference(set(GS_AND_MINIAC)))\n",
    "    FN = len(set(GS_AND_MINIAC).difference(set(open_tfs)))\n",
    "    F1 = round(TP / (TP + (1/2)*(FP+FN)),3)\n",
    "    f1s.append(F1) \n",
    "    \n",
    "    M = len(miniac_TFs)  # Total number of MINI-AC TFs\n",
    "    n = len(GS_AND_MINIAC)  # Number of miniac_TFs which are DE and DAR \n",
    "    N = len(open_tfs)   # Number of my open miniac_TFs (if I take N miniac_TFs) \n",
    "    k = len(GS_AND_MINIAC.intersection(open_tfs))   # NUmber of intersected miniac_TFs (what is the chance to get k TPs (or more?)) \n",
    "    \n",
    "    hpd = ss.hypergeom(M, n, N)\n",
    "    p = hpd.pmf(k)\n",
    "    print(t, \"\\t\" , round(p,8), '\\t', F1)\n",
    "    p_values.append(p)\n",
    "\n",
    "sig_mask = [i for i,p in enumerate(p_values) if p > .05]\n",
    "for i in sig_mask:\n",
    "    f1s[i] = -1\n",
    "\n",
    "if max(f1s) != -1:\n",
    "    best_index = np.argmax(f1s)\n",
    "    print(thresholds[best_index])\n",
    "else:\n",
    "    print(\"NONE SIGNIFICANT\")\n"
   ]
  },
  {
   "cell_type": "code",
   "execution_count": 67,
   "metadata": {},
   "outputs": [
    {
     "name": "stdout",
     "output_type": "stream",
     "text": [
      "Open miniac_TFs  48\n"
     ]
    },
    {
     "data": {
      "text/plain": "<AxesSubplot:>"
     },
     "execution_count": 67,
     "metadata": {},
     "output_type": "execute_result"
    },
    {
     "data": {
      "image/png": "[encoded data removed]",
      "text/plain": "<Figure size 576x576 with 1 Axes>"
     },
     "metadata": {},
     "output_type": "display_data"
    }
   ],
   "source": [
    "open_tfs = []\n",
    "for k,v in list(TF_covered.items()):\n",
    "    if v > thresholds[best_index]:\n",
    "        open_tfs.append(k)\n",
    "\n",
    "#print(\"Openness threshold \", thresholds[best_index])\n",
    "print(\"Open miniac_TFs \", len(open_tfs))\n",
    "\n",
    "miniac_gs_venn = {\n",
    "    \"GS and MINI-AC TFs\": set(GS_AND_MINIAC),\n",
    "    \"Open TFs\": set(open_tfs),\n",
    "}\n",
    "venn(miniac_gs_venn)\n",
    "#plt.savefig(\"/home/claudia/Desktop/UGent/Thesis/figures/\"+cell_type+\".svg\")"
   ]
  },
  {
   "cell_type": "code",
   "execution_count": 68,
   "metadata": {},
   "outputs": [],
   "source": [
    "open_tgs = set()\n",
    "for k in miniac_TF2TG.keys():\n",
    "    if k in open_tfs:\n",
    "        for v in miniac_TF2TG[k]:\n",
    "            open_tgs.add(v.rstrip())\n",
    "        "
   ]
  },
  {
   "cell_type": "code",
   "execution_count": 69,
   "metadata": {},
   "outputs": [
    {
     "data": {
      "text/plain": "3120"
     },
     "execution_count": 69,
     "metadata": {},
     "output_type": "execute_result"
    }
   ],
   "source": [
    "len(open_tgs)"
   ]
  },
  {
   "cell_type": "markdown",
   "metadata": {},
   "source": [
    "### Expression based"
   ]
  },
  {
   "cell_type": "markdown",
   "metadata": {},
   "source": [
    "#### Preparation"
   ]
  },
  {
   "cell_type": "code",
   "execution_count": 70,
   "metadata": {},
   "outputs": [],
   "source": [
    "farmer = pd.read_excel(\"/home/claudia/Desktop/UGent/Thesis/GS/farmer.xls\", index_col = 0)\n",
    "\n",
    "taus = []\n",
    "for index, row in farmer.iterrows(): \n",
    "    maximum = max(row) \n",
    "    transformed_row = [1 - (x/maximum) for x in row]\n",
    "    taus.append(sum(transformed_row)/len(row))\n",
    "\n",
    "generic_indexes = []\n",
    "for i,t in enumerate(taus):\n",
    "    if t < 0.5: \n",
    "        generic_indexes.append(i)\n",
    "\n",
    "farmer = farmer.drop(index=generic_indexes)\n",
    "id_max = list(farmer.idxmax(axis=1))\n"
   ]
  },
  {
   "cell_type": "markdown",
   "metadata": {},
   "source": [
    "#### Statistical test"
   ]
  },
  {
   "cell_type": "code",
   "execution_count": 71,
   "metadata": {},
   "outputs": [
    {
     "name": "stdout",
     "output_type": "stream",
     "text": [
      "0.32225246 0.04\n",
      "DE miniac_TFs  7\n"
     ]
    },
    {
     "data": {
      "text/plain": "<AxesSubplot:>"
     },
     "execution_count": 71,
     "metadata": {},
     "output_type": "execute_result"
    },
    {
     "data": {
      "image/png": "[encoded data removed]",
      "text/plain": "<Figure size 576x576 with 1 Axes>"
     },
     "metadata": {},
     "output_type": "display_data"
    }
   ],
   "source": [
    "farmer_de = dict()\n",
    "for i,type in enumerate(id_max):\n",
    "    k = type.split('.')[0]\n",
    "    \n",
    "    if k not in farmer_de:\n",
    "        farmer_de[k] = set()\n",
    "    farmer_de[k].add(farmer.index[i])\n",
    " \n",
    "\n",
    "de_tfs = set(miniac_TFs).intersection(set(farmer_de[capital_cell_type])) # Among my Tfs, if I only take the ones that are DE in Farmer\n",
    "TP = len(set(GS_AND_MINIAC).intersection(de_tfs))\n",
    "FP = len(set(de_tfs).difference(set(GS_AND_MINIAC)))\n",
    "FN = len(set(GS_AND_MINIAC).difference(set(de_tfs)))\n",
    "F1 = round(TP / (TP + (1/2)*(FP+FN)),3)\n",
    "  \n",
    "M = len(miniac_TFs)  # Total number of DA\n",
    "n = len(GS_AND_MINIAC)  # Number of miniac_TFs which are DE and DAR \n",
    "N = len(de_tfs)   # Number of my miniac_TFs which are DE (if I take N miniac_TFs) \n",
    "k = len(GS_AND_MINIAC.intersection(de_tfs))   # NUmber of intersected miniac_TFs (what is the chance to get k TPs (or more?)) \n",
    "    \n",
    "hpd = ss.hypergeom(M, n, N)\n",
    "p = hpd.pmf(k)\n",
    "print(round(p,8), F1) \n",
    " \n",
    " \n",
    "print(\"DE miniac_TFs \", len(de_tfs))\n",
    "\n",
    "\n",
    "miniac_gs_venn = {\n",
    "    \"GS and MINI-AC TFs\": set(GS_AND_MINIAC),\n",
    "    \"Expressed TFs\": set(de_tfs),\n",
    "}\n",
    "venn(miniac_gs_venn)"
   ]
  },
  {
   "cell_type": "markdown",
   "metadata": {},
   "source": [
    "# Snuc-RNA and scATAC comparison "
   ]
  },
  {
   "cell_type": "markdown",
   "metadata": {},
   "source": [
    "## TFs"
   ]
  },
  {
   "cell_type": "code",
   "execution_count": 72,
   "metadata": {},
   "outputs": [
    {
     "name": "stdout",
     "output_type": "stream",
     "text": [
      "Jaccard:  0.05357142857142857\n",
      "Intersection:  3\n"
     ]
    },
    {
     "data": {
      "text/plain": "<AxesSubplot:>"
     },
     "execution_count": 72,
     "metadata": {},
     "output_type": "execute_result"
    },
    {
     "data": {
      "image/png": "[encoded data removed]",
      "text/plain": "<Figure size 576x576 with 1 Axes>"
     },
     "metadata": {},
     "output_type": "display_data"
    }
   ],
   "source": [
    "de_tfs = set(farmer_de[capital_cell_type])\n",
    "de_tfs = set(de_tfs).intersection(set(tf_names_Y))\n",
    "J = len(set(open_tfs).intersection(de_tfs)) / len(set(open_tfs).union(de_tfs))\n",
    "print(\"Jaccard: \", J)\n",
    "print(\"Intersection: \",len(set(open_tfs).intersection(de_tfs)))\n",
    "miniac_gs_venn = {\n",
    "    \"Open TFs\": set(open_tfs),\n",
    "    \"Expressed TFs\": set(de_tfs),\n",
    "}\n",
    "venn(miniac_gs_venn)"
   ]
  },
  {
   "cell_type": "markdown",
   "metadata": {},
   "source": [
    "## TGs "
   ]
  },
  {
   "cell_type": "code",
   "execution_count": 73,
   "metadata": {},
   "outputs": [
    {
     "name": "stdout",
     "output_type": "stream",
     "text": [
      "Intersection:  224\n",
      "Jaccard:  0.06888068880688807\n",
      "Percent:  0.6292134831460674\n"
     ]
    },
    {
     "data": {
      "image/png": "[encoded data removed]",
      "text/plain": "<Figure size 576x576 with 1 Axes>"
     },
     "metadata": {},
     "output_type": "display_data"
    }
   ],
   "source": [
    "de_tgs = set(farmer_de[capital_cell_type])\n",
    "print(\"Intersection: \",len(set(open_tgs).intersection(de_tgs)))\n",
    "miniac_gs_venn = {\n",
    "    \"Open TGs\": set(open_tgs),\n",
    "    \"Expressed TGs\": set(de_tgs),\n",
    "}\n",
    "venn(miniac_gs_venn)\n",
    "\n",
    "J = len(set(open_tgs).intersection(de_tgs)) /  len(set(open_tgs).union(de_tgs))\n",
    "print(\"Jaccard: \",J)\n",
    "\n",
    "percent = len(set(open_tgs).intersection(de_tgs)) / len(de_tgs)\n",
    "print(\"Percent: \",percent)"
   ]
  },
  {
   "cell_type": "markdown",
   "metadata": {},
   "source": [
    "## Save regulons"
   ]
  },
  {
   "cell_type": "code",
   "execution_count": 74,
   "metadata": {},
   "outputs": [],
   "source": [
    "with open(\"/home/claudia/Desktop/UGent/Thesis/networks_second/regulons/regulons_\"+cell_type+\".txt\", \"w\") as out:\n",
    "    for i,tf in enumerate(open_tfs):\n",
    "        for v in miniac_TF2TG[tf]: \n",
    "            out.write(tf+\"\\t\"+v+\"\\n\")"
   ]
  }
 ],
 "metadata": {
  "kernelspec": {
   "display_name": "Python 3",
   "language": "python",
   "name": "python3"
  },
  "language_info": {
   "codemirror_mode": {
    "name": "ipython",
    "version": 3
   },
   "file_extension": ".py",
   "mimetype": "text/x-python",
   "name": "python",
   "nbconvert_exporter": "python",
   "pygments_lexer": "ipython3",
   "version": "3.9.1"
  }
 },
 "nbformat": 4,
 "nbformat_minor": 5
}